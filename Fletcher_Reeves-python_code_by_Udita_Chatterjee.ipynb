{
 "cells": [
  {
   "cell_type": "markdown",
   "metadata": {},
   "source": [
    "# FLETCHER REEVES PYTHON CODE BY UDITA CHATTERJEE\n",
    "\n"
   ]
  },
  {
   "cell_type": "markdown",
   "metadata": {},
   "source": [
    "Without using  the loops\n",
    "\n",
    "for 2nd degree polynomial\n",
    "\n",
    "\n",
    "\n",
    "\n"
   ]
  },
  {
   "cell_type": "code",
   "execution_count": 58,
   "metadata": {},
   "outputs": [],
   "source": [
    "import numpy as np\n",
    "import numpy.linalg as npl\n",
    "import matplotlib.pyplot as plt\n",
    "import sympy as sym\n",
    "from sympy import *\n"
   ]
  },
  {
   "cell_type": "code",
   "execution_count": 94,
   "metadata": {},
   "outputs": [
    {
     "name": "stdout",
     "output_type": "stream",
     "text": [
      "1/2\n"
     ]
    },
    {
     "ename": "IndexError",
     "evalue": "list index out of range",
     "output_type": "error",
     "traceback": [
      "\u001b[1;31m---------------------------------------------------------------------------\u001b[0m",
      "\u001b[1;31mIndexError\u001b[0m                                Traceback (most recent call last)",
      "\u001b[1;32m<ipython-input-94-b3206ca90295>\u001b[0m in \u001b[0;36m<module>\u001b[1;34m\u001b[0m\n\u001b[0;32m     70\u001b[0m \u001b[0mv\u001b[0m\u001b[1;33m=\u001b[0m\u001b[0msym\u001b[0m\u001b[1;33m.\u001b[0m\u001b[0msolve\u001b[0m\u001b[1;33m(\u001b[0m\u001b[0mdif\u001b[0m\u001b[1;33m,\u001b[0m\u001b[0mq\u001b[0m\u001b[1;33m)\u001b[0m  \u001b[1;31m#gives list value\u001b[0m\u001b[1;33m\u001b[0m\u001b[1;33m\u001b[0m\u001b[0m\n\u001b[0;32m     71\u001b[0m \u001b[0mv\u001b[0m\u001b[1;33m\u001b[0m\u001b[1;33m\u001b[0m\u001b[0m\n\u001b[1;32m---> 72\u001b[1;33m \u001b[0mv1\u001b[0m\u001b[1;33m=\u001b[0m\u001b[0mv\u001b[0m\u001b[1;33m[\u001b[0m\u001b[1;36m0\u001b[0m\u001b[1;33m]\u001b[0m\u001b[1;33m\u001b[0m\u001b[1;33m\u001b[0m\u001b[0m\n\u001b[0m\u001b[0;32m     73\u001b[0m \u001b[0mv1\u001b[0m\u001b[1;33m\u001b[0m\u001b[1;33m\u001b[0m\u001b[0m\n\u001b[0;32m     74\u001b[0m \u001b[0mprint\u001b[0m\u001b[1;33m(\u001b[0m\u001b[0mv1\u001b[0m\u001b[1;33m)\u001b[0m\u001b[1;33m\u001b[0m\u001b[1;33m\u001b[0m\u001b[0m\n",
      "\u001b[1;31mIndexError\u001b[0m: list index out of range"
     ]
    }
   ],
   "source": [
    "x=sym.symbols('x')\n",
    "y=sym.symbols('y')\n",
    "f=x**2+y**2+2*x+2*y+2\n",
    "f\n",
    "dx=f.diff(x) #differentiation wrt x\n",
    "dx\n",
    "dy=f.diff(y) #differentiation wrt y\n",
    "dy\n",
    "dx=sym.lambdify([x,y],dx)\n",
    "dy=sym.lambdify([x,y],dy)\n",
    "f=sym.lambdify([x,y],f)\n",
    "X1=np.array([0,0]) #step1 initializing by taking a vector X1\n",
    "\n",
    "S1=np.array((2,1))\n",
    "S1[0]=-dx(X1[0],X1[1])\n",
    "S1[1]=-dy(X1[0],X1[1])\n",
    "S1 #-Grad of f(X) at the point X1\n",
    "X2=np.array((2,1))\n",
    "\n",
    "#Step 2\n",
    "#X2=X1+lambda*S1\n",
    "\n",
    "#from sympy import *\n",
    "#z=Symbol('z')\n",
    "\n",
    "z=sym.symbols('z')\n",
    "x=sym.symbols('x')\n",
    "y=sym.symbols('y')\n",
    "x=X1[0]+z*S1[0]\n",
    "y=X1[1]+z*S1[1]\n",
    "p=x**2+y**2+2*x+2*y+2\n",
    "\n",
    "dif=p.diff(z)\n",
    "v=sym.solve(dif,z)  #gives list value\n",
    "v\n",
    "v1=v[0]\n",
    "v1\n",
    "print(v1)\n",
    "X2[0]=X1[0]+v1*S1[0]\n",
    "X2[1]=X1[1]+v1*S1[1]\n",
    "\n",
    "grad_f2=np.array((2,1))\n",
    "\n",
    "grad_f2[0]=dx(X2[0],X2[1])\n",
    "grad_f2[1]=dy(X2[0],X2[1])\n",
    "\n",
    "#S2=-grad(f_i)+ \n",
    "\n",
    "norm2=npl.norm(grad_f2)\n",
    "norm=npl.norm(S1)\n",
    "k=(norm2*norm2)/(norm*norm)\n",
    "\n",
    "S2=np.array((2,1))\n",
    "\n",
    "S2[0]=-grad_f2[0]+k*S1[0]\n",
    "S2[1]=-grad_f2[1]+k*S1[1]\n",
    "S2\n",
    "\n",
    "X3=np.array((2,1))\n",
    "\n",
    "#step 4 \n",
    "q=sym.symbols('q')\n",
    "x=sym.symbols('x')\n",
    "y=sym.symbols('y')\n",
    "x=X2[0]+q*S2[0]\n",
    "y=X2[1]+q*S2[1]\n",
    "p=x**2+y**2+2*x+2*y+2\n",
    "\n",
    "dif=p.diff(q)\n",
    "v=sym.solve(dif,q)  #gives list value\n",
    "v\n",
    "v1=v[0]\n",
    "v1\n",
    "print(v1)\n",
    "X3[0]=X2[0]+v1*S2[0]\n",
    "X3[1]=X2[1]+v1*S2[1]\n",
    "X3\n",
    "\n",
    "   \n",
    "#as X2=X3 \n",
    "#hence the optimal value is at X2\n",
    "\n",
    "\n",
    "#-3\n",
    "X2,X3\n",
    "\n",
    "\n",
    "\n",
    "\n",
    "\n",
    "\n",
    "\n",
    "\n"
   ]
  },
  {
   "cell_type": "code",
   "execution_count": 74,
   "metadata": {},
   "outputs": [
    {
     "data": {
      "text/latex": [
       "$\\displaystyle \\frac{1}{2}$"
      ],
      "text/plain": [
       "1/2"
      ]
     },
     "execution_count": 74,
     "metadata": {},
     "output_type": "execute_result"
    }
   ],
   "source": [
    "z=sym.symbols('z')\n",
    "x=sym.symbols('x')\n",
    "y=sym.symbols('y')\n",
    "x=X1[0]+z*S1[0]\n",
    "y=X1[1]+z*S1[1]\n",
    "p=x**2+y**2+2*x+2*y+2\n",
    "\n",
    "dif=p.diff(z)\n",
    "dif\n",
    "v=sym.solve(dif,z)\n",
    "v[0]"
   ]
  },
  {
   "cell_type": "code",
   "execution_count": 84,
   "metadata": {},
   "outputs": [
    {
     "data": {
      "text/plain": [
       "array([-2, -2])"
      ]
     },
     "execution_count": 84,
     "metadata": {},
     "output_type": "execute_result"
    }
   ],
   "source": [
    "z=sym.symbols('z')\n",
    "x=sym.symbols('x')\n",
    "y=sym.symbols('y')\n",
    "x=X2[0]+z*S2[0]\n",
    "y=X2[1]+z*S2[1]\n",
    "p=x**2+y**2+2*x+y+2\n",
    "\n",
    "dif=p.diff(z)\n",
    "S1\n"
   ]
  },
  {
   "cell_type": "code",
   "execution_count": 85,
   "metadata": {},
   "outputs": [
    {
     "data": {
      "text/plain": [
       "0.0"
      ]
     },
     "execution_count": 85,
     "metadata": {},
     "output_type": "execute_result"
    }
   ],
   "source": [
    "k"
   ]
  },
  {
   "cell_type": "code",
   "execution_count": 86,
   "metadata": {},
   "outputs": [
    {
     "data": {
      "text/plain": [
       "0.0"
      ]
     },
     "execution_count": 86,
     "metadata": {},
     "output_type": "execute_result"
    }
   ],
   "source": [
    "norm2"
   ]
  },
  {
   "cell_type": "code",
   "execution_count": 87,
   "metadata": {},
   "outputs": [
    {
     "data": {
      "text/plain": [
       "0.0"
      ]
     },
     "execution_count": 87,
     "metadata": {},
     "output_type": "execute_result"
    }
   ],
   "source": [
    "npl.norm(grad_f2)"
   ]
  },
  {
   "cell_type": "code",
   "execution_count": 88,
   "metadata": {},
   "outputs": [
    {
     "data": {
      "text/plain": [
       "array([0, 0])"
      ]
     },
     "execution_count": 88,
     "metadata": {},
     "output_type": "execute_result"
    }
   ],
   "source": [
    "grad_f2"
   ]
  },
  {
   "cell_type": "code",
   "execution_count": 92,
   "metadata": {},
   "outputs": [
    {
     "data": {
      "text/plain": [
       "0"
      ]
     },
     "execution_count": 92,
     "metadata": {},
     "output_type": "execute_result"
    }
   ],
   "source": []
  },
  {
   "cell_type": "code",
   "execution_count": 93,
   "metadata": {},
   "outputs": [
    {
     "data": {
      "text/plain": [
       "array([-2, -2])"
      ]
     },
     "execution_count": 93,
     "metadata": {},
     "output_type": "execute_result"
    }
   ],
   "source": [
    "S1=np.array((2,1))\n",
    "S1[0]=-dx(X1[0],X1[1])\n",
    "S1[1]=-dy(X1[0],X1[1])\n",
    "S1"
   ]
  },
  {
   "cell_type": "code",
   "execution_count": 98,
   "metadata": {},
   "outputs": [
    {
     "data": {
      "text/plain": [
       "[1/2]"
      ]
     },
     "execution_count": 98,
     "metadata": {},
     "output_type": "execute_result"
    }
   ],
   "source": [
    "z=sym.symbols('z')\n",
    "x=sym.symbols('x')\n",
    "y=sym.symbols('y')\n",
    "x=X1[0]+z*S1[0]\n",
    "y=X1[1]+z*S1[1]\n",
    "p=x**2+y**2+2*x+2*y+2\n",
    "\n",
    "dif=p.diff(z)\n",
    "v=sym.solve(dif,z)  #gives list value\n",
    "v"
   ]
  },
  {
   "cell_type": "code",
   "execution_count": 99,
   "metadata": {},
   "outputs": [
    {
     "data": {
      "text/plain": [
       "array([-1, -1])"
      ]
     },
     "execution_count": 99,
     "metadata": {},
     "output_type": "execute_result"
    }
   ],
   "source": [
    "X2"
   ]
  },
  {
   "cell_type": "code",
   "execution_count": 100,
   "metadata": {},
   "outputs": [
    {
     "data": {
      "text/plain": [
       "array([2, 1])"
      ]
     },
     "execution_count": 100,
     "metadata": {},
     "output_type": "execute_result"
    }
   ],
   "source": [
    "X3"
   ]
  },
  {
   "cell_type": "code",
   "execution_count": 104,
   "metadata": {},
   "outputs": [
    {
     "ename": "TypeError",
     "evalue": "'function' object is not subscriptable",
     "output_type": "error",
     "traceback": [
      "\u001b[1;31m---------------------------------------------------------------------------\u001b[0m",
      "\u001b[1;31mTypeError\u001b[0m                                 Traceback (most recent call last)",
      "\u001b[1;32m<ipython-input-104-6eddc1ef9a01>\u001b[0m in \u001b[0;36m<module>\u001b[1;34m\u001b[0m\n\u001b[0;32m      4\u001b[0m \u001b[0mgrad_f2\u001b[0m\u001b[1;33m[\u001b[0m\u001b[1;36m1\u001b[0m\u001b[1;33m]\u001b[0m\u001b[1;33m=\u001b[0m\u001b[0mdy\u001b[0m\u001b[1;33m(\u001b[0m\u001b[0mX2\u001b[0m\u001b[1;33m[\u001b[0m\u001b[1;36m0\u001b[0m\u001b[1;33m]\u001b[0m\u001b[1;33m,\u001b[0m\u001b[0mX2\u001b[0m\u001b[1;33m[\u001b[0m\u001b[1;36m1\u001b[0m\u001b[1;33m]\u001b[0m\u001b[1;33m)\u001b[0m\u001b[1;33m\u001b[0m\u001b[1;33m\u001b[0m\u001b[0m\n\u001b[0;32m      5\u001b[0m \u001b[1;33m\u001b[0m\u001b[0m\n\u001b[1;32m----> 6\u001b[1;33m \u001b[0mdx\u001b[0m\u001b[1;33m[\u001b[0m\u001b[0mX2\u001b[0m\u001b[1;33m[\u001b[0m\u001b[1;36m0\u001b[0m\u001b[1;33m]\u001b[0m\u001b[1;33m,\u001b[0m\u001b[0mX2\u001b[0m\u001b[1;33m[\u001b[0m\u001b[1;36m1\u001b[0m\u001b[1;33m]\u001b[0m\u001b[1;33m]\u001b[0m\u001b[1;33m\u001b[0m\u001b[1;33m\u001b[0m\u001b[0m\n\u001b[0m",
      "\u001b[1;31mTypeError\u001b[0m: 'function' object is not subscriptable"
     ]
    }
   ],
   "source": [
    "grad_f2=np.array((2,1))\n",
    "\n",
    "grad_f2[0]=dx(X2[0],X2[1])\n",
    "grad_f2[1]=dy(X2[0],X2[1])\n",
    "\n",
    "dx[X2[0],X2[1]]\n"
   ]
  },
  {
   "cell_type": "code",
   "execution_count": null,
   "metadata": {},
   "outputs": [],
   "source": []
  }
 ],
 "metadata": {
  "kernelspec": {
   "display_name": "Python 3",
   "language": "python",
   "name": "python3"
  },
  "language_info": {
   "codemirror_mode": {
    "name": "ipython",
    "version": 3
   },
   "file_extension": ".py",
   "mimetype": "text/x-python",
   "name": "python",
   "nbconvert_exporter": "python",
   "pygments_lexer": "ipython3",
   "version": "3.8.3"
  }
 },
 "nbformat": 4,
 "nbformat_minor": 4
}
