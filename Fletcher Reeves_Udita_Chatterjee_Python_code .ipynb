{
 "cells": [
  {
   "cell_type": "markdown",
   "metadata": {},
   "source": [
    "# FLETCHER REEVES PYTHON CODE BY UDITA CHATTERJEE\n",
    "\n"
   ]
  },
  {
   "cell_type": "markdown",
   "metadata": {},
   "source": [
    "Without using  the loops\n",
    "\n",
    "for 2nd degree polynomial\n",
    "\n",
    "\n",
    "\n",
    "\n"
   ]
  },
  {
   "cell_type": "code",
   "execution_count": 5,
   "metadata": {},
   "outputs": [],
   "source": [
    "\n",
    "import numpy as np\n",
    "import numpy.linalg as npl\n",
    "import matplotlib.pyplot as plt\n",
    "import sympy as sym\n",
    "from sympy import *\n"
   ]
  },
  {
   "cell_type": "code",
   "execution_count": 9,
   "metadata": {},
   "outputs": [
    {
     "data": {
      "text/plain": [
       "(array([1, 2]), array([1, 2]), -3)"
      ]
     },
     "execution_count": 9,
     "metadata": {},
     "output_type": "execute_result"
    }
   ],
   "source": [
    "x=sym.symbols('x')\n",
    "y=sym.symbols('y')\n",
    "f=6*x**2 +2*y**2-6*x*y-x-2*y\n",
    "f\n",
    "dx=f.diff(x) #differentiation wrt x\n",
    "dx\n",
    "dy=f.diff(y) #differentiation wrt y\n",
    "dy\n",
    "dx=sym.lambdify([x,y],dx)\n",
    "dy=sym.lambdify([x,y],dy)\n",
    "f=sym.lambdify([x,y],f)\n",
    "X1=np.array([0,0]) #step1 initializing by taking a vector X1\n",
    "\n",
    "S1=np.array((2,1))\n",
    "S1[0]=-dx(X1[0],X1[1])\n",
    "S1[1]=-dy(X1[0],X1[1])\n",
    "S1 #-Grad of f(X) at the point X1\n",
    "\n",
    "X2=np.array((2,1))\n",
    "\n",
    "#Step 2\n",
    "#X2=X1+lambda*S1\n",
    "\n",
    "#from sympy import *\n",
    "\n",
    "\n",
    "z=sym.symbols('z')\n",
    "x=sym.symbols('x')\n",
    "y=sym.symbols('y')\n",
    "x=X1[0]+z*S1[0]\n",
    "y=X1[1]+z*S1[1]\n",
    "p=6*x**2+2*y**2-6*x*y-x-2*y\n",
    "dif=p.diff(z)\n",
    "v=sym.solve(dif,z)  #gives list value \n",
    "v\n",
    "v1=v[0]\n",
    "v1\n",
    "\n",
    "X2[0]=X1[0]+v1*S1[0]\n",
    "X2[1]=X1[1]+v1*S1[1]\n",
    "\n",
    "grad_f2=np.array((2,1))\n",
    "\n",
    "grad_f2[0]=dx(X2[0],X2[1])\n",
    "grad_f2[1]=dy(X2[0],X2[1])\n",
    "\n",
    "\n",
    "\n",
    "norm2=npl.norm(grad_f2)\n",
    "norm=npl.norm(S1)\n",
    "k=(norm2*norm2)/(norm*norm)\n",
    "\n",
    "S2=np.array((2,1))\n",
    "\n",
    "S2[0]=-grad_f2[0]+k*S1[0]\n",
    "S2[1]=-grad_f2[1]+k*S1[1]\n",
    "S2\n",
    "\n",
    "X3=np.array((2,1))\n",
    "\n",
    "#step 4 \n",
    "z=sym.symbols('z')\n",
    "x=sym.symbols('x')\n",
    "y=sym.symbols('y')\n",
    "x=X2[0]+z*S2[0]\n",
    "y=X2[1]+z*S2[1]\n",
    "p=6*x**2+2*y**2-6*x*y-x-2*y\n",
    "dif=p.diff(z)\n",
    "v=sym.solve(dif,z)  \n",
    "v\n",
    "v1=v[0]\n",
    "v1\n",
    "X3[0]=X2[0]+v1*S2[0]\n",
    "X3[1]=X2[1]+v1*S2[1]\n",
    "X3\n",
    "\n",
    "   \n",
    "#as X2=X3 \n",
    "#hence the optimal value is at X2\n",
    "f(X2[0],X2[1])\n",
    "\n",
    "#-3\n",
    "\n",
    "\n",
    "X2,X3,f(X2[0],X2[1])\n",
    "\n",
    "\n",
    "\n",
    "\n",
    "\n"
   ]
  },
  {
   "cell_type": "code",
   "execution_count": null,
   "metadata": {},
   "outputs": [],
   "source": []
  }
 ],
 "metadata": {
  "kernelspec": {
   "display_name": "Python 3",
   "language": "python",
   "name": "python3"
  },
  "language_info": {
   "codemirror_mode": {
    "name": "ipython",
    "version": 3
   },
   "file_extension": ".py",
   "mimetype": "text/x-python",
   "name": "python",
   "nbconvert_exporter": "python",
   "pygments_lexer": "ipython3",
   "version": "3.8.3"
  }
 },
 "nbformat": 4,
 "nbformat_minor": 4
}
